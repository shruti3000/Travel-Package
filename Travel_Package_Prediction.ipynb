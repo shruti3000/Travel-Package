{
  "nbformat": 4,
  "nbformat_minor": 5,
  "metadata": {
    "kernelspec": {
      "display_name": "Python 3",
      "language": "python",
      "name": "python3"
    },
    "language_info": {
      "codemirror_mode": {
        "name": "ipython",
        "version": 3
      },
      "file_extension": ".py",
      "mimetype": "text/x-python",
      "name": "python",
      "nbconvert_exporter": "python",
      "pygments_lexer": "ipython3",
      "version": "3.8.8"
    },
    "colab": {
      "name": "Travel_Package_Prediction.ipynb",
      "provenance": [],
      "include_colab_link": true
    }
  },
  "cells": [
    {
      "cell_type": "markdown",
      "metadata": {
        "id": "view-in-github",
        "colab_type": "text"
      },
      "source": [
        "<a href=\"https://colab.research.google.com/github/shruti3000/Travel-Package/blob/main/Travel_Package_Prediction.ipynb\" target=\"_parent\"><img src=\"https://colab.research.google.com/assets/colab-badge.svg\" alt=\"Open In Colab\"/></a>"
      ]
    },
    {
      "cell_type": "markdown",
      "metadata": {
        "id": "a1646949"
      },
      "source": [
        "# Predict Whether A Customer Will Buy Travel PackageOr Not"
      ],
      "id": "a1646949"
    },
    {
      "cell_type": "markdown",
      "metadata": {
        "id": "c8defb43"
      },
      "source": [
        "![](https://www.bajajallianz.com/content/dam/bagic/travel-insurance/individual-travel-insurance/Individual_Travel_Insurance_V3.png)"
      ],
      "id": "c8defb43"
    },
    {
      "cell_type": "markdown",
      "metadata": {
        "id": "e61a4bca"
      },
      "source": [
        "A Tour & Travels Company Is Offering Travel Insurance Package To Their Customers.\n",
        "The New Insurance Package Also Includes Covid Cover.\n",
        "The Company Requires To Know The Which Customers Would Be Interested To Buy It Based On Its Database History.\n",
        "The Insurance Was Offered To Some Of The Customers In 2019 And The Given Data Has Been Extracted From The Performance/Sales Of The Package During That Period.\n",
        "The Data Is Provided For Almost 2000 Of Its Previous Customers And You Are Required To Build An Intelligent Model That Can Predict If The Customer Will Be Interested To Buy The Travel Insurance Package Based On Certain Parameters.\n",
        "\n"
      ],
      "id": "e61a4bca"
    },
    {
      "cell_type": "markdown",
      "metadata": {
        "id": "85ac1043"
      },
      "source": [
        "### Content"
      ],
      "id": "85ac1043"
    },
    {
      "cell_type": "markdown",
      "metadata": {
        "id": "9dc651dd"
      },
      "source": [
        "Age- Age Of The Customer  \n",
        "Employment Type- The Sector In Which Customer Is Employed  \n",
        "GraduateOrNot- Whether The Customer Is College Graduate Or Not  \n",
        "AnnualIncome- The Yearly Income Of The Customer In Indian Rupees[Rounded To Nearest 50 Thousand Rupees]  \n",
        "FamilyMembers- Number Of Members In Customer's Family  \n",
        "ChronicDisease- Whether The Customer Suffers From Any Major Disease Or Conditions Like Diabetes/High BP or Asthama,etc.  \n",
        "FrequentFlyer- Derived Data Based On Customer's History Of Booking Air Tickets On Atleast 4 Different Instances In The Last 2 Years[2017-2019].  \n",
        "EverTravelledAbroad- Has The Customer Ever Travelled To A Foreign Country[Not Necessarily Using The Company's Services]  \n",
        "TravelInsurance- Did The Customer Buy Travel Insurance Package During Introductory Offering Held In The Year 2019.\n"
      ],
      "id": "9dc651dd"
    },
    {
      "cell_type": "markdown",
      "metadata": {
        "id": "14ccf879"
      },
      "source": [
        "### One can find the used Dataset [Here](https://www.kaggle.com/tejashvi14/travel-insurance-prediction-data)"
      ],
      "id": "14ccf879"
    },
    {
      "cell_type": "code",
      "metadata": {
        "colab": {
          "base_uri": "https://localhost:8080/"
        },
        "id": "50f1fe16",
        "outputId": "e813c702-9c73-4ff7-d0e5-5c9d6e9be7e4"
      },
      "source": [
        "#First, it is important to import all essential libraries used\n",
        "import numpy as np\n",
        "import pandas as pd\n",
        "import seaborn as sns\n",
        "import matplotlib.pyplot as plt\n",
        "import warnings\n",
        "import sys\n",
        "!{sys.executable} -m pip install xgboost\n",
        "warnings.simplefilter(action='ignore', category=FutureWarning)\n",
        "%matplotlib inline"
      ],
      "id": "50f1fe16",
      "execution_count": null,
      "outputs": [
        {
          "output_type": "stream",
          "name": "stdout",
          "text": [
            "Requirement already satisfied: xgboost in /usr/local/lib/python3.7/dist-packages (0.90)\n",
            "Requirement already satisfied: scipy in /usr/local/lib/python3.7/dist-packages (from xgboost) (1.4.1)\n",
            "Requirement already satisfied: numpy in /usr/local/lib/python3.7/dist-packages (from xgboost) (1.19.5)\n"
          ]
        }
      ]
    },
    {
      "cell_type": "code",
      "metadata": {
        "colab": {
          "base_uri": "https://localhost:8080/",
          "height": 371
        },
        "id": "0c0c6940",
        "outputId": "d90fd5ee-a11d-4c38-c765-b35c47fdc735"
      },
      "source": [
        "df=pd.read_csv(r'/content/TravelInsurancePrediction.csv')\n",
        "df.head()\n",
        "#I have imported the dataset here, note that so far it is a single dataset, I will divide it into datasets further"
      ],
      "id": "0c0c6940",
      "execution_count": null,
      "outputs": [
        {
          "output_type": "execute_result",
          "data": {
            "text/html": [
              "<div>\n",
              "<style scoped>\n",
              "    .dataframe tbody tr th:only-of-type {\n",
              "        vertical-align: middle;\n",
              "    }\n",
              "\n",
              "    .dataframe tbody tr th {\n",
              "        vertical-align: top;\n",
              "    }\n",
              "\n",
              "    .dataframe thead th {\n",
              "        text-align: right;\n",
              "    }\n",
              "</style>\n",
              "<table border=\"1\" class=\"dataframe\">\n",
              "  <thead>\n",
              "    <tr style=\"text-align: right;\">\n",
              "      <th></th>\n",
              "      <th>Unnamed: 0</th>\n",
              "      <th>Age</th>\n",
              "      <th>Employment Type</th>\n",
              "      <th>GraduateOrNot</th>\n",
              "      <th>AnnualIncome</th>\n",
              "      <th>FamilyMembers</th>\n",
              "      <th>ChronicDiseases</th>\n",
              "      <th>FrequentFlyer</th>\n",
              "      <th>EverTravelledAbroad</th>\n",
              "      <th>TravelInsurance</th>\n",
              "    </tr>\n",
              "  </thead>\n",
              "  <tbody>\n",
              "    <tr>\n",
              "      <th>0</th>\n",
              "      <td>0</td>\n",
              "      <td>31</td>\n",
              "      <td>Government Sector</td>\n",
              "      <td>Yes</td>\n",
              "      <td>400000</td>\n",
              "      <td>6</td>\n",
              "      <td>1</td>\n",
              "      <td>No</td>\n",
              "      <td>No</td>\n",
              "      <td>0</td>\n",
              "    </tr>\n",
              "    <tr>\n",
              "      <th>1</th>\n",
              "      <td>1</td>\n",
              "      <td>31</td>\n",
              "      <td>Private Sector/Self Employed</td>\n",
              "      <td>Yes</td>\n",
              "      <td>1250000</td>\n",
              "      <td>7</td>\n",
              "      <td>0</td>\n",
              "      <td>No</td>\n",
              "      <td>No</td>\n",
              "      <td>0</td>\n",
              "    </tr>\n",
              "    <tr>\n",
              "      <th>2</th>\n",
              "      <td>2</td>\n",
              "      <td>34</td>\n",
              "      <td>Private Sector/Self Employed</td>\n",
              "      <td>Yes</td>\n",
              "      <td>500000</td>\n",
              "      <td>4</td>\n",
              "      <td>1</td>\n",
              "      <td>No</td>\n",
              "      <td>No</td>\n",
              "      <td>1</td>\n",
              "    </tr>\n",
              "    <tr>\n",
              "      <th>3</th>\n",
              "      <td>3</td>\n",
              "      <td>28</td>\n",
              "      <td>Private Sector/Self Employed</td>\n",
              "      <td>Yes</td>\n",
              "      <td>700000</td>\n",
              "      <td>3</td>\n",
              "      <td>1</td>\n",
              "      <td>No</td>\n",
              "      <td>No</td>\n",
              "      <td>0</td>\n",
              "    </tr>\n",
              "    <tr>\n",
              "      <th>4</th>\n",
              "      <td>4</td>\n",
              "      <td>28</td>\n",
              "      <td>Private Sector/Self Employed</td>\n",
              "      <td>Yes</td>\n",
              "      <td>700000</td>\n",
              "      <td>8</td>\n",
              "      <td>1</td>\n",
              "      <td>Yes</td>\n",
              "      <td>No</td>\n",
              "      <td>0</td>\n",
              "    </tr>\n",
              "  </tbody>\n",
              "</table>\n",
              "</div>"
            ],
            "text/plain": [
              "   Unnamed: 0  Age  ... EverTravelledAbroad TravelInsurance\n",
              "0           0   31  ...                  No               0\n",
              "1           1   31  ...                  No               0\n",
              "2           2   34  ...                  No               1\n",
              "3           3   28  ...                  No               0\n",
              "4           4   28  ...                  No               0\n",
              "\n",
              "[5 rows x 10 columns]"
            ]
          },
          "metadata": {},
          "execution_count": 103
        }
      ]
    },
    {
      "cell_type": "code",
      "metadata": {
        "colab": {
          "base_uri": "https://localhost:8080/"
        },
        "id": "b3b271c6",
        "outputId": "6789af03-733f-430f-e2da-0f9f5599e92a"
      },
      "source": [
        "#To get idea about the shape of the dataset i.e. number of rows and columns\n",
        "df.shape"
      ],
      "id": "b3b271c6",
      "execution_count": null,
      "outputs": [
        {
          "output_type": "execute_result",
          "data": {
            "text/plain": [
              "(1987, 10)"
            ]
          },
          "metadata": {},
          "execution_count": 104
        }
      ]
    },
    {
      "cell_type": "markdown",
      "metadata": {
        "id": "4b382d68"
      },
      "source": [
        "## Exploaratory Data Analysis"
      ],
      "id": "4b382d68"
    },
    {
      "cell_type": "code",
      "metadata": {
        "colab": {
          "base_uri": "https://localhost:8080/"
        },
        "id": "2d93a9c1",
        "outputId": "b11dde8b-f95a-4466-8c6e-b57972f3d2c7"
      },
      "source": [
        "df.isnull().sum()"
      ],
      "id": "2d93a9c1",
      "execution_count": null,
      "outputs": [
        {
          "output_type": "execute_result",
          "data": {
            "text/plain": [
              "Unnamed: 0             0\n",
              "Age                    0\n",
              "Employment Type        0\n",
              "GraduateOrNot          0\n",
              "AnnualIncome           0\n",
              "FamilyMembers          0\n",
              "ChronicDiseases        0\n",
              "FrequentFlyer          0\n",
              "EverTravelledAbroad    0\n",
              "TravelInsurance        0\n",
              "dtype: int64"
            ]
          },
          "metadata": {},
          "execution_count": 105
        }
      ]
    },
    {
      "cell_type": "code",
      "metadata": {
        "colab": {
          "base_uri": "https://localhost:8080/"
        },
        "id": "30e6e81f",
        "outputId": "e2484dde-7520-4dbf-c00f-bcc62941ccb9"
      },
      "source": [
        "df.nunique()"
      ],
      "id": "30e6e81f",
      "execution_count": null,
      "outputs": [
        {
          "output_type": "execute_result",
          "data": {
            "text/plain": [
              "Unnamed: 0             1987\n",
              "Age                      11\n",
              "Employment Type           2\n",
              "GraduateOrNot             2\n",
              "AnnualIncome             30\n",
              "FamilyMembers             8\n",
              "ChronicDiseases           2\n",
              "FrequentFlyer             2\n",
              "EverTravelledAbroad       2\n",
              "TravelInsurance           2\n",
              "dtype: int64"
            ]
          },
          "metadata": {},
          "execution_count": 106
        }
      ]
    },
    {
      "cell_type": "code",
      "metadata": {
        "id": "b2b6e7c5"
      },
      "source": [
        "df.drop(['Unnamed: 0'], axis=1, inplace=True)"
      ],
      "id": "b2b6e7c5",
      "execution_count": null,
      "outputs": []
    },
    {
      "cell_type": "code",
      "metadata": {
        "colab": {
          "base_uri": "https://localhost:8080/"
        },
        "id": "f47c44e7",
        "outputId": "9f6d2f4d-f55c-48de-f466-9d8651767ff4"
      },
      "source": [
        "df.info()"
      ],
      "id": "f47c44e7",
      "execution_count": null,
      "outputs": [
        {
          "output_type": "stream",
          "name": "stdout",
          "text": [
            "<class 'pandas.core.frame.DataFrame'>\n",
            "RangeIndex: 1987 entries, 0 to 1986\n",
            "Data columns (total 9 columns):\n",
            " #   Column               Non-Null Count  Dtype \n",
            "---  ------               --------------  ----- \n",
            " 0   Age                  1987 non-null   int64 \n",
            " 1   Employment Type      1987 non-null   object\n",
            " 2   GraduateOrNot        1987 non-null   object\n",
            " 3   AnnualIncome         1987 non-null   int64 \n",
            " 4   FamilyMembers        1987 non-null   int64 \n",
            " 5   ChronicDiseases      1987 non-null   int64 \n",
            " 6   FrequentFlyer        1987 non-null   object\n",
            " 7   EverTravelledAbroad  1987 non-null   object\n",
            " 8   TravelInsurance      1987 non-null   int64 \n",
            "dtypes: int64(5), object(4)\n",
            "memory usage: 139.8+ KB\n"
          ]
        }
      ]
    },
    {
      "cell_type": "code",
      "metadata": {
        "colab": {
          "base_uri": "https://localhost:8080/",
          "height": 295
        },
        "id": "af173073",
        "outputId": "74f6dda8-b700-45ca-fe67-86c22f1dd40d"
      },
      "source": [
        "df.describe()"
      ],
      "id": "af173073",
      "execution_count": null,
      "outputs": [
        {
          "output_type": "execute_result",
          "data": {
            "text/html": [
              "<div>\n",
              "<style scoped>\n",
              "    .dataframe tbody tr th:only-of-type {\n",
              "        vertical-align: middle;\n",
              "    }\n",
              "\n",
              "    .dataframe tbody tr th {\n",
              "        vertical-align: top;\n",
              "    }\n",
              "\n",
              "    .dataframe thead th {\n",
              "        text-align: right;\n",
              "    }\n",
              "</style>\n",
              "<table border=\"1\" class=\"dataframe\">\n",
              "  <thead>\n",
              "    <tr style=\"text-align: right;\">\n",
              "      <th></th>\n",
              "      <th>Age</th>\n",
              "      <th>AnnualIncome</th>\n",
              "      <th>FamilyMembers</th>\n",
              "      <th>ChronicDiseases</th>\n",
              "      <th>TravelInsurance</th>\n",
              "    </tr>\n",
              "  </thead>\n",
              "  <tbody>\n",
              "    <tr>\n",
              "      <th>count</th>\n",
              "      <td>1987.000000</td>\n",
              "      <td>1.987000e+03</td>\n",
              "      <td>1987.000000</td>\n",
              "      <td>1987.000000</td>\n",
              "      <td>1987.000000</td>\n",
              "    </tr>\n",
              "    <tr>\n",
              "      <th>mean</th>\n",
              "      <td>29.650226</td>\n",
              "      <td>9.327630e+05</td>\n",
              "      <td>4.752894</td>\n",
              "      <td>0.277806</td>\n",
              "      <td>0.357323</td>\n",
              "    </tr>\n",
              "    <tr>\n",
              "      <th>std</th>\n",
              "      <td>2.913308</td>\n",
              "      <td>3.768557e+05</td>\n",
              "      <td>1.609650</td>\n",
              "      <td>0.448030</td>\n",
              "      <td>0.479332</td>\n",
              "    </tr>\n",
              "    <tr>\n",
              "      <th>min</th>\n",
              "      <td>25.000000</td>\n",
              "      <td>3.000000e+05</td>\n",
              "      <td>2.000000</td>\n",
              "      <td>0.000000</td>\n",
              "      <td>0.000000</td>\n",
              "    </tr>\n",
              "    <tr>\n",
              "      <th>25%</th>\n",
              "      <td>28.000000</td>\n",
              "      <td>6.000000e+05</td>\n",
              "      <td>4.000000</td>\n",
              "      <td>0.000000</td>\n",
              "      <td>0.000000</td>\n",
              "    </tr>\n",
              "    <tr>\n",
              "      <th>50%</th>\n",
              "      <td>29.000000</td>\n",
              "      <td>9.000000e+05</td>\n",
              "      <td>5.000000</td>\n",
              "      <td>0.000000</td>\n",
              "      <td>0.000000</td>\n",
              "    </tr>\n",
              "    <tr>\n",
              "      <th>75%</th>\n",
              "      <td>32.000000</td>\n",
              "      <td>1.250000e+06</td>\n",
              "      <td>6.000000</td>\n",
              "      <td>1.000000</td>\n",
              "      <td>1.000000</td>\n",
              "    </tr>\n",
              "    <tr>\n",
              "      <th>max</th>\n",
              "      <td>35.000000</td>\n",
              "      <td>1.800000e+06</td>\n",
              "      <td>9.000000</td>\n",
              "      <td>1.000000</td>\n",
              "      <td>1.000000</td>\n",
              "    </tr>\n",
              "  </tbody>\n",
              "</table>\n",
              "</div>"
            ],
            "text/plain": [
              "               Age  AnnualIncome  ...  ChronicDiseases  TravelInsurance\n",
              "count  1987.000000  1.987000e+03  ...      1987.000000      1987.000000\n",
              "mean     29.650226  9.327630e+05  ...         0.277806         0.357323\n",
              "std       2.913308  3.768557e+05  ...         0.448030         0.479332\n",
              "min      25.000000  3.000000e+05  ...         0.000000         0.000000\n",
              "25%      28.000000  6.000000e+05  ...         0.000000         0.000000\n",
              "50%      29.000000  9.000000e+05  ...         0.000000         0.000000\n",
              "75%      32.000000  1.250000e+06  ...         1.000000         1.000000\n",
              "max      35.000000  1.800000e+06  ...         1.000000         1.000000\n",
              "\n",
              "[8 rows x 5 columns]"
            ]
          },
          "metadata": {},
          "execution_count": 109
        }
      ]
    },
    {
      "cell_type": "code",
      "metadata": {
        "colab": {
          "base_uri": "https://localhost:8080/",
          "height": 304
        },
        "id": "284de32e",
        "outputId": "04a8ccd1-106e-4f39-b562-5b28726038a1"
      },
      "source": [
        "plt.figure(figsize=(40,10))\n",
        "sns.countplot('AnnualIncome',hue='TravelInsurance',data=df, palette=['#E4A497','#432371'])\n",
        "plt.show()"
      ],
      "id": "284de32e",
      "execution_count": null,
      "outputs": [
        {
          "output_type": "display_data",
          "data": {
            "image/png": "[encoded data removed]",
            "text/plain": [
              "<Figure size 2880x720 with 1 Axes>"
            ]
          },
          "metadata": {
            "needs_background": "light"
          }
        }
      ]
    },
    {
      "cell_type": "markdown",
      "metadata": {
        "id": "0c4dcc8e"
      },
      "source": [
        "It's clear that people with Annual Income >1300000 are more likely to take Travel Insurance."
      ],
      "id": "0c4dcc8e"
    },
    {
      "cell_type": "code",
      "metadata": {
        "colab": {
          "base_uri": "https://localhost:8080/",
          "height": 279
        },
        "id": "433e7c87",
        "outputId": "b85a81c9-cbe5-4f17-cef7-cd5d1a0eb229"
      },
      "source": [
        "sns.countplot('FrequentFlyer',hue='TravelInsurance',data=df,palette=['#E4A497','#432371'])\n",
        "plt.show()"
      ],
      "id": "433e7c87",
      "execution_count": null,
      "outputs": [
        {
          "output_type": "display_data",
          "data": {
            "image/png": "[encoded data removed]",
            "text/plain": [
              "<Figure size 432x288 with 1 Axes>"
            ]
          },
          "metadata": {
            "needs_background": "light"
          }
        }
      ]
    },
    {
      "cell_type": "markdown",
      "metadata": {
        "id": "583e0bba"
      },
      "source": [
        "People who fly frequently are more likey to take insurance."
      ],
      "id": "583e0bba"
    },
    {
      "cell_type": "code",
      "metadata": {
        "colab": {
          "base_uri": "https://localhost:8080/",
          "height": 279
        },
        "id": "44bcbeba",
        "outputId": "a7f6d89f-8b83-4d94-99c5-47615d6f44ec"
      },
      "source": [
        "sns.countplot('ChronicDiseases',hue='TravelInsurance',data=df, palette=['#E4A497','#432371'])\n",
        "plt.show()"
      ],
      "id": "44bcbeba",
      "execution_count": null,
      "outputs": [
        {
          "output_type": "display_data",
          "data": {
            "image/png": "[encoded data removed]",
            "text/plain": [
              "<Figure size 432x288 with 1 Axes>"
            ]
          },
          "metadata": {
            "needs_background": "light"
          }
        }
      ]
    },
    {
      "cell_type": "markdown",
      "metadata": {
        "id": "8f21eaa3"
      },
      "source": [
        "Taking Travel Insurance or not, isn't really affected by presence or absence of Chronic Diseases."
      ],
      "id": "8f21eaa3"
    },
    {
      "cell_type": "code",
      "metadata": {
        "colab": {
          "base_uri": "https://localhost:8080/",
          "height": 279
        },
        "id": "3aedff7f",
        "outputId": "bba40494-f8bd-4d22-e2a2-08ee39591fff"
      },
      "source": [
        "sns.countplot('EverTravelledAbroad',hue='TravelInsurance',data=df, palette=['#E4A497','#432371'])\n",
        "plt.show()"
      ],
      "id": "3aedff7f",
      "execution_count": null,
      "outputs": [
        {
          "output_type": "display_data",
          "data": {
            "image/png": "[encoded data removed]",
            "text/plain": [
              "<Figure size 432x288 with 1 Axes>"
            ]
          },
          "metadata": {
            "needs_background": "light"
          }
        }
      ]
    },
    {
      "cell_type": "markdown",
      "metadata": {
        "id": "c0b30be9"
      },
      "source": [
        "People who have travelled abroad are more likely to take Travel Insurance."
      ],
      "id": "c0b30be9"
    },
    {
      "cell_type": "code",
      "metadata": {
        "colab": {
          "base_uri": "https://localhost:8080/",
          "height": 279
        },
        "id": "949dce1f",
        "outputId": "de3b708b-989f-4d75-8ebf-23e52986e319"
      },
      "source": [
        "sns.countplot('Age',hue='TravelInsurance',data=df, palette=['#E4A497','#432371'])\n",
        "plt.show()"
      ],
      "id": "949dce1f",
      "execution_count": null,
      "outputs": [
        {
          "output_type": "display_data",
          "data": {
            "image/png": "[encoded data removed]",
            "text/plain": [
              "<Figure size 432x288 with 1 Axes>"
            ]
          },
          "metadata": {
            "needs_background": "light"
          }
        }
      ]
    },
    {
      "cell_type": "markdown",
      "metadata": {
        "id": "7f3296a2"
      },
      "source": [
        "People who are 33 or older, are more likely to take Travel Insurance."
      ],
      "id": "7f3296a2"
    },
    {
      "cell_type": "code",
      "metadata": {
        "colab": {
          "base_uri": "https://localhost:8080/",
          "height": 279
        },
        "id": "b0097617",
        "outputId": "a526362b-f84e-4a09-8e4a-b2da58351938"
      },
      "source": [
        "sns.countplot('FamilyMembers',hue='TravelInsurance',data=df, palette=['#E4A497','#432371'])\n",
        "plt.show()"
      ],
      "id": "b0097617",
      "execution_count": null,
      "outputs": [
        {
          "output_type": "display_data",
          "data": {
            "image/png": "[encoded data removed]",
            "text/plain": [
              "<Figure size 432x288 with 1 Axes>"
            ]
          },
          "metadata": {
            "needs_background": "light"
          }
        }
      ]
    },
    {
      "cell_type": "markdown",
      "metadata": {
        "id": "81d661ba"
      },
      "source": [
        "Number of Family members, doesn't look like a factor to influence taking Travel Insurance."
      ],
      "id": "81d661ba"
    },
    {
      "cell_type": "code",
      "metadata": {
        "colab": {
          "base_uri": "https://localhost:8080/",
          "height": 279
        },
        "id": "0ab4417a",
        "outputId": "b8156f07-5b65-46fd-f8df-033043735a1f"
      },
      "source": [
        "sns.countplot('GraduateOrNot',hue='TravelInsurance',data=df, palette=['#E4A497','#432371'])\n",
        "plt.show()"
      ],
      "id": "0ab4417a",
      "execution_count": null,
      "outputs": [
        {
          "output_type": "display_data",
          "data": {
            "image/png": "[encoded data removed]",
            "text/plain": [
              "<Figure size 432x288 with 1 Axes>"
            ]
          },
          "metadata": {
            "needs_background": "light"
          }
        }
      ]
    },
    {
      "cell_type": "markdown",
      "metadata": {
        "id": "05a56b04"
      },
      "source": [
        "Taking Travel Insurance or not, isn't really affected by whether the person is a Graduate or not."
      ],
      "id": "05a56b04"
    },
    {
      "cell_type": "code",
      "metadata": {
        "colab": {
          "base_uri": "https://localhost:8080/",
          "height": 279
        },
        "id": "980e8b3d",
        "outputId": "c339da93-3a64-4308-e225-bcaa6c199446"
      },
      "source": [
        "sns.countplot('Employment Type',hue='TravelInsurance',data=df, palette=['#E4A497','#432371'])\n",
        "plt.show()"
      ],
      "id": "980e8b3d",
      "execution_count": null,
      "outputs": [
        {
          "output_type": "display_data",
          "data": {
            "image/png": "[encoded data removed]",
            "text/plain": [
              "<Figure size 432x288 with 1 Axes>"
            ]
          },
          "metadata": {
            "needs_background": "light"
          }
        }
      ]
    },
    {
      "cell_type": "markdown",
      "metadata": {
        "id": "2ee7812a"
      },
      "source": [
        "Taking Travel Insurance or not, isn't really affected by whether the person works in Government Sector or Private Sector/Self-Employed."
      ],
      "id": "2ee7812a"
    },
    {
      "cell_type": "code",
      "metadata": {
        "id": "e6e57d5f"
      },
      "source": [
        "df['Employment Type'].replace({'Private Sector/Self Employed':1, 'Government Sector':0},inplace=True)\n",
        "df['GraduateOrNot'].replace({'No':0, 'Yes':1},inplace=True)\n",
        "df['FrequentFlyer'].replace({'No':0, 'Yes':1},inplace=True)\n",
        "df['EverTravelledAbroad'].replace({'No':0, 'Yes':1},inplace=True)"
      ],
      "id": "e6e57d5f",
      "execution_count": null,
      "outputs": []
    },
    {
      "cell_type": "markdown",
      "metadata": {
        "id": "24e573af"
      },
      "source": [
        "So, dataframe is updated with changed column values."
      ],
      "id": "24e573af"
    },
    {
      "cell_type": "code",
      "metadata": {
        "colab": {
          "base_uri": "https://localhost:8080/",
          "height": 363
        },
        "id": "169a9c24",
        "outputId": "28a18d17-eedc-48f8-cbac-034c73d15dcc"
      },
      "source": [
        "df.corr()"
      ],
      "id": "169a9c24",
      "execution_count": null,
      "outputs": [
        {
          "output_type": "execute_result",
          "data": {
            "text/html": [
              "<div>\n",
              "<style scoped>\n",
              "    .dataframe tbody tr th:only-of-type {\n",
              "        vertical-align: middle;\n",
              "    }\n",
              "\n",
              "    .dataframe tbody tr th {\n",
              "        vertical-align: top;\n",
              "    }\n",
              "\n",
              "    .dataframe thead th {\n",
              "        text-align: right;\n",
              "    }\n",
              "</style>\n",
              "<table border=\"1\" class=\"dataframe\">\n",
              "  <thead>\n",
              "    <tr style=\"text-align: right;\">\n",
              "      <th></th>\n",
              "      <th>Age</th>\n",
              "      <th>Employment Type</th>\n",
              "      <th>GraduateOrNot</th>\n",
              "      <th>AnnualIncome</th>\n",
              "      <th>FamilyMembers</th>\n",
              "      <th>ChronicDiseases</th>\n",
              "      <th>FrequentFlyer</th>\n",
              "      <th>EverTravelledAbroad</th>\n",
              "      <th>TravelInsurance</th>\n",
              "    </tr>\n",
              "  </thead>\n",
              "  <tbody>\n",
              "    <tr>\n",
              "      <th>Age</th>\n",
              "      <td>1.000000</td>\n",
              "      <td>-0.115134</td>\n",
              "      <td>0.027125</td>\n",
              "      <td>-0.020101</td>\n",
              "      <td>0.027409</td>\n",
              "      <td>0.007359</td>\n",
              "      <td>-0.033159</td>\n",
              "      <td>-0.012779</td>\n",
              "      <td>0.061060</td>\n",
              "    </tr>\n",
              "    <tr>\n",
              "      <th>Employment Type</th>\n",
              "      <td>-0.115134</td>\n",
              "      <td>1.000000</td>\n",
              "      <td>-0.127133</td>\n",
              "      <td>0.349157</td>\n",
              "      <td>-0.003354</td>\n",
              "      <td>-0.011553</td>\n",
              "      <td>0.143790</td>\n",
              "      <td>0.181098</td>\n",
              "      <td>0.147847</td>\n",
              "    </tr>\n",
              "    <tr>\n",
              "      <th>GraduateOrNot</th>\n",
              "      <td>0.027125</td>\n",
              "      <td>-0.127133</td>\n",
              "      <td>1.000000</td>\n",
              "      <td>0.108066</td>\n",
              "      <td>0.021201</td>\n",
              "      <td>0.018811</td>\n",
              "      <td>-0.028120</td>\n",
              "      <td>0.062683</td>\n",
              "      <td>0.018934</td>\n",
              "    </tr>\n",
              "    <tr>\n",
              "      <th>AnnualIncome</th>\n",
              "      <td>-0.020101</td>\n",
              "      <td>0.349157</td>\n",
              "      <td>0.108066</td>\n",
              "      <td>1.000000</td>\n",
              "      <td>-0.015367</td>\n",
              "      <td>-0.001149</td>\n",
              "      <td>0.353087</td>\n",
              "      <td>0.486043</td>\n",
              "      <td>0.396763</td>\n",
              "    </tr>\n",
              "    <tr>\n",
              "      <th>FamilyMembers</th>\n",
              "      <td>0.027409</td>\n",
              "      <td>-0.003354</td>\n",
              "      <td>0.021201</td>\n",
              "      <td>-0.015367</td>\n",
              "      <td>1.000000</td>\n",
              "      <td>0.028209</td>\n",
              "      <td>-0.023775</td>\n",
              "      <td>-0.020755</td>\n",
              "      <td>0.079909</td>\n",
              "    </tr>\n",
              "    <tr>\n",
              "      <th>ChronicDiseases</th>\n",
              "      <td>0.007359</td>\n",
              "      <td>-0.011553</td>\n",
              "      <td>0.018811</td>\n",
              "      <td>-0.001149</td>\n",
              "      <td>0.028209</td>\n",
              "      <td>1.000000</td>\n",
              "      <td>-0.043720</td>\n",
              "      <td>0.021238</td>\n",
              "      <td>0.018190</td>\n",
              "    </tr>\n",
              "    <tr>\n",
              "      <th>FrequentFlyer</th>\n",
              "      <td>-0.033159</td>\n",
              "      <td>0.143790</td>\n",
              "      <td>-0.028120</td>\n",
              "      <td>0.353087</td>\n",
              "      <td>-0.023775</td>\n",
              "      <td>-0.043720</td>\n",
              "      <td>1.000000</td>\n",
              "      <td>0.277334</td>\n",
              "      <td>0.232103</td>\n",
              "    </tr>\n",
              "    <tr>\n",
              "      <th>EverTravelledAbroad</th>\n",
              "      <td>-0.012779</td>\n",
              "      <td>0.181098</td>\n",
              "      <td>0.062683</td>\n",
              "      <td>0.486043</td>\n",
              "      <td>-0.020755</td>\n",
              "      <td>0.021238</td>\n",
              "      <td>0.277334</td>\n",
              "      <td>1.000000</td>\n",
              "      <td>0.433183</td>\n",
              "    </tr>\n",
              "    <tr>\n",
              "      <th>TravelInsurance</th>\n",
              "      <td>0.061060</td>\n",
              "      <td>0.147847</td>\n",
              "      <td>0.018934</td>\n",
              "      <td>0.396763</td>\n",
              "      <td>0.079909</td>\n",
              "      <td>0.018190</td>\n",
              "      <td>0.232103</td>\n",
              "      <td>0.433183</td>\n",
              "      <td>1.000000</td>\n",
              "    </tr>\n",
              "  </tbody>\n",
              "</table>\n",
              "</div>"
            ],
            "text/plain": [
              "                          Age  ...  TravelInsurance\n",
              "Age                  1.000000  ...         0.061060\n",
              "Employment Type     -0.115134  ...         0.147847\n",
              "GraduateOrNot        0.027125  ...         0.018934\n",
              "AnnualIncome        -0.020101  ...         0.396763\n",
              "FamilyMembers        0.027409  ...         0.079909\n",
              "ChronicDiseases      0.007359  ...         0.018190\n",
              "FrequentFlyer       -0.033159  ...         0.232103\n",
              "EverTravelledAbroad -0.012779  ...         0.433183\n",
              "TravelInsurance      0.061060  ...         1.000000\n",
              "\n",
              "[9 rows x 9 columns]"
            ]
          },
          "metadata": {},
          "execution_count": 119
        }
      ]
    },
    {
      "cell_type": "markdown",
      "metadata": {
        "id": "03f4f743"
      },
      "source": [
        "## Feature Engineering"
      ],
      "id": "03f4f743"
    },
    {
      "cell_type": "code",
      "metadata": {
        "id": "66e69a94"
      },
      "source": [
        "# Creating a numpy array of Age values \n",
        "x = df['Age'].values\n",
        "# List of new categories\n",
        "types = [0, 1]\n",
        "# New column based on certain conditions\n",
        "df['Age Category']=np.select([x<=32, x>32],types)"
      ],
      "id": "66e69a94",
      "execution_count": null,
      "outputs": []
    },
    {
      "cell_type": "code",
      "metadata": {
        "id": "65ba42f8"
      },
      "source": [
        "x = df['AnnualIncome'].values\n",
        "incometypes = [0, 1]\n",
        "df['AnnualCategory']=np.select([x<=1300000, x>1300000],incometypes)"
      ],
      "id": "65ba42f8",
      "execution_count": null,
      "outputs": []
    },
    {
      "cell_type": "markdown",
      "metadata": {
        "id": "abcafcdf"
      },
      "source": [
        "New columns of Income and Age are created based on their initial influence on Travel Insurance."
      ],
      "id": "abcafcdf"
    },
    {
      "cell_type": "code",
      "metadata": {
        "id": "cbd622c7"
      },
      "source": [
        "df_final = df.drop(columns=[\"AnnualIncome\", \"Age\"])"
      ],
      "id": "cbd622c7",
      "execution_count": null,
      "outputs": []
    },
    {
      "cell_type": "markdown",
      "metadata": {
        "id": "9276ee25"
      },
      "source": [
        "No need for columns-Age, AnnualIncome anymore."
      ],
      "id": "9276ee25"
    },
    {
      "cell_type": "code",
      "metadata": {
        "colab": {
          "base_uri": "https://localhost:8080/"
        },
        "id": "e19444dc",
        "outputId": "1c16adc1-d22f-4307-8c57-c7018f4e3b6b"
      },
      "source": [
        "df_final.head()"
      ],
      "id": "e19444dc",
      "execution_count": null,
      "outputs": [
        {
          "output_type": "execute_result",
          "data": {
            "text/html": [
              "<div>\n",
              "<style scoped>\n",
              "    .dataframe tbody tr th:only-of-type {\n",
              "        vertical-align: middle;\n",
              "    }\n",
              "\n",
              "    .dataframe tbody tr th {\n",
              "        vertical-align: top;\n",
              "    }\n",
              "\n",
              "    .dataframe thead th {\n",
              "        text-align: right;\n",
              "    }\n",
              "</style>\n",
              "<table border=\"1\" class=\"dataframe\">\n",
              "  <thead>\n",
              "    <tr style=\"text-align: right;\">\n",
              "      <th></th>\n",
              "      <th>Employment Type</th>\n",
              "      <th>GraduateOrNot</th>\n",
              "      <th>FamilyMembers</th>\n",
              "      <th>ChronicDiseases</th>\n",
              "      <th>FrequentFlyer</th>\n",
              "      <th>EverTravelledAbroad</th>\n",
              "      <th>TravelInsurance</th>\n",
              "      <th>Age Category</th>\n",
              "      <th>AnnualCategory</th>\n",
              "    </tr>\n",
              "  </thead>\n",
              "  <tbody>\n",
              "    <tr>\n",
              "      <th>0</th>\n",
              "      <td>0</td>\n",
              "      <td>1</td>\n",
              "      <td>6</td>\n",
              "      <td>1</td>\n",
              "      <td>0</td>\n",
              "      <td>0</td>\n",
              "      <td>0</td>\n",
              "      <td>0</td>\n",
              "      <td>0</td>\n",
              "    </tr>\n",
              "    <tr>\n",
              "      <th>1</th>\n",
              "      <td>1</td>\n",
              "      <td>1</td>\n",
              "      <td>7</td>\n",
              "      <td>0</td>\n",
              "      <td>0</td>\n",
              "      <td>0</td>\n",
              "      <td>0</td>\n",
              "      <td>0</td>\n",
              "      <td>0</td>\n",
              "    </tr>\n",
              "    <tr>\n",
              "      <th>2</th>\n",
              "      <td>1</td>\n",
              "      <td>1</td>\n",
              "      <td>4</td>\n",
              "      <td>1</td>\n",
              "      <td>0</td>\n",
              "      <td>0</td>\n",
              "      <td>1</td>\n",
              "      <td>1</td>\n",
              "      <td>0</td>\n",
              "    </tr>\n",
              "    <tr>\n",
              "      <th>3</th>\n",
              "      <td>1</td>\n",
              "      <td>1</td>\n",
              "      <td>3</td>\n",
              "      <td>1</td>\n",
              "      <td>0</td>\n",
              "      <td>0</td>\n",
              "      <td>0</td>\n",
              "      <td>0</td>\n",
              "      <td>0</td>\n",
              "    </tr>\n",
              "    <tr>\n",
              "      <th>4</th>\n",
              "      <td>1</td>\n",
              "      <td>1</td>\n",
              "      <td>8</td>\n",
              "      <td>1</td>\n",
              "      <td>1</td>\n",
              "      <td>0</td>\n",
              "      <td>0</td>\n",
              "      <td>0</td>\n",
              "      <td>0</td>\n",
              "    </tr>\n",
              "  </tbody>\n",
              "</table>\n",
              "</div>"
            ],
            "text/plain": [
              "   Employment Type  GraduateOrNot  ...  Age Category  AnnualCategory\n",
              "0                0              1  ...             0               0\n",
              "1                1              1  ...             0               0\n",
              "2                1              1  ...             1               0\n",
              "3                1              1  ...             0               0\n",
              "4                1              1  ...             0               0\n",
              "\n",
              "[5 rows x 9 columns]"
            ]
          },
          "metadata": {},
          "execution_count": 123
        }
      ]
    },
    {
      "cell_type": "code",
      "metadata": {
        "colab": {
          "base_uri": "https://localhost:8080/"
        },
        "id": "3c076fc0",
        "outputId": "43f5b0ac-8a1a-4c03-e9dc-b1024c3528b6"
      },
      "source": [
        "df_final.corr()"
      ],
      "id": "3c076fc0",
      "execution_count": null,
      "outputs": [
        {
          "output_type": "execute_result",
          "data": {
            "text/html": [
              "<div>\n",
              "<style scoped>\n",
              "    .dataframe tbody tr th:only-of-type {\n",
              "        vertical-align: middle;\n",
              "    }\n",
              "\n",
              "    .dataframe tbody tr th {\n",
              "        vertical-align: top;\n",
              "    }\n",
              "\n",
              "    .dataframe thead th {\n",
              "        text-align: right;\n",
              "    }\n",
              "</style>\n",
              "<table border=\"1\" class=\"dataframe\">\n",
              "  <thead>\n",
              "    <tr style=\"text-align: right;\">\n",
              "      <th></th>\n",
              "      <th>Employment Type</th>\n",
              "      <th>GraduateOrNot</th>\n",
              "      <th>FamilyMembers</th>\n",
              "      <th>ChronicDiseases</th>\n",
              "      <th>FrequentFlyer</th>\n",
              "      <th>EverTravelledAbroad</th>\n",
              "      <th>TravelInsurance</th>\n",
              "      <th>Age Category</th>\n",
              "      <th>AnnualCategory</th>\n",
              "    </tr>\n",
              "  </thead>\n",
              "  <tbody>\n",
              "    <tr>\n",
              "      <th>Employment Type</th>\n",
              "      <td>1.000000</td>\n",
              "      <td>-0.127133</td>\n",
              "      <td>-0.003354</td>\n",
              "      <td>-0.011553</td>\n",
              "      <td>0.143790</td>\n",
              "      <td>0.181098</td>\n",
              "      <td>0.147847</td>\n",
              "      <td>0.002542</td>\n",
              "      <td>0.237198</td>\n",
              "    </tr>\n",
              "    <tr>\n",
              "      <th>GraduateOrNot</th>\n",
              "      <td>-0.127133</td>\n",
              "      <td>1.000000</td>\n",
              "      <td>0.021201</td>\n",
              "      <td>0.018811</td>\n",
              "      <td>-0.028120</td>\n",
              "      <td>0.062683</td>\n",
              "      <td>0.018934</td>\n",
              "      <td>0.014521</td>\n",
              "      <td>0.025348</td>\n",
              "    </tr>\n",
              "    <tr>\n",
              "      <th>FamilyMembers</th>\n",
              "      <td>-0.003354</td>\n",
              "      <td>0.021201</td>\n",
              "      <td>1.000000</td>\n",
              "      <td>0.028209</td>\n",
              "      <td>-0.023775</td>\n",
              "      <td>-0.020755</td>\n",
              "      <td>0.079909</td>\n",
              "      <td>0.009633</td>\n",
              "      <td>-0.031856</td>\n",
              "    </tr>\n",
              "    <tr>\n",
              "      <th>ChronicDiseases</th>\n",
              "      <td>-0.011553</td>\n",
              "      <td>0.018811</td>\n",
              "      <td>0.028209</td>\n",
              "      <td>1.000000</td>\n",
              "      <td>-0.043720</td>\n",
              "      <td>0.021238</td>\n",
              "      <td>0.018190</td>\n",
              "      <td>0.014025</td>\n",
              "      <td>0.000135</td>\n",
              "    </tr>\n",
              "    <tr>\n",
              "      <th>FrequentFlyer</th>\n",
              "      <td>0.143790</td>\n",
              "      <td>-0.028120</td>\n",
              "      <td>-0.023775</td>\n",
              "      <td>-0.043720</td>\n",
              "      <td>1.000000</td>\n",
              "      <td>0.277334</td>\n",
              "      <td>0.232103</td>\n",
              "      <td>0.036319</td>\n",
              "      <td>0.411703</td>\n",
              "    </tr>\n",
              "    <tr>\n",
              "      <th>EverTravelledAbroad</th>\n",
              "      <td>0.181098</td>\n",
              "      <td>0.062683</td>\n",
              "      <td>-0.020755</td>\n",
              "      <td>0.021238</td>\n",
              "      <td>0.277334</td>\n",
              "      <td>1.000000</td>\n",
              "      <td>0.433183</td>\n",
              "      <td>0.058102</td>\n",
              "      <td>0.754176</td>\n",
              "    </tr>\n",
              "    <tr>\n",
              "      <th>TravelInsurance</th>\n",
              "      <td>0.147847</td>\n",
              "      <td>0.018934</td>\n",
              "      <td>0.079909</td>\n",
              "      <td>0.018190</td>\n",
              "      <td>0.232103</td>\n",
              "      <td>0.433183</td>\n",
              "      <td>1.000000</td>\n",
              "      <td>0.171576</td>\n",
              "      <td>0.533486</td>\n",
              "    </tr>\n",
              "    <tr>\n",
              "      <th>Age Category</th>\n",
              "      <td>0.002542</td>\n",
              "      <td>0.014521</td>\n",
              "      <td>0.009633</td>\n",
              "      <td>0.014025</td>\n",
              "      <td>0.036319</td>\n",
              "      <td>0.058102</td>\n",
              "      <td>0.171576</td>\n",
              "      <td>1.000000</td>\n",
              "      <td>0.014728</td>\n",
              "    </tr>\n",
              "    <tr>\n",
              "      <th>AnnualCategory</th>\n",
              "      <td>0.237198</td>\n",
              "      <td>0.025348</td>\n",
              "      <td>-0.031856</td>\n",
              "      <td>0.000135</td>\n",
              "      <td>0.411703</td>\n",
              "      <td>0.754176</td>\n",
              "      <td>0.533486</td>\n",
              "      <td>0.014728</td>\n",
              "      <td>1.000000</td>\n",
              "    </tr>\n",
              "  </tbody>\n",
              "</table>\n",
              "</div>"
            ],
            "text/plain": [
              "                     Employment Type  ...  AnnualCategory\n",
              "Employment Type             1.000000  ...        0.237198\n",
              "GraduateOrNot              -0.127133  ...        0.025348\n",
              "FamilyMembers              -0.003354  ...       -0.031856\n",
              "ChronicDiseases            -0.011553  ...        0.000135\n",
              "FrequentFlyer               0.143790  ...        0.411703\n",
              "EverTravelledAbroad         0.181098  ...        0.754176\n",
              "TravelInsurance             0.147847  ...        0.533486\n",
              "Age Category                0.002542  ...        0.014728\n",
              "AnnualCategory              0.237198  ...        1.000000\n",
              "\n",
              "[9 rows x 9 columns]"
            ]
          },
          "metadata": {},
          "execution_count": 124
        }
      ]
    },
    {
      "cell_type": "markdown",
      "metadata": {
        "id": "c8c629cc"
      },
      "source": [
        "Deleting the columns(Age, AnnualIncome) after dividing the values based on whether they influence Travel Insurance or not, the Correlation values between Travel Insurance and the divided or new categorical columns has increased."
      ],
      "id": "c8c629cc"
    },
    {
      "cell_type": "markdown",
      "metadata": {
        "id": "a771583c"
      },
      "source": [
        "## Data Preprocessing and Model Selection"
      ],
      "id": "a771583c"
    },
    {
      "cell_type": "code",
      "metadata": {
        "id": "e71aec35"
      },
      "source": [
        "x=df_final.drop(columns=[\"TravelInsurance\"])"
      ],
      "id": "e71aec35",
      "execution_count": null,
      "outputs": []
    },
    {
      "cell_type": "code",
      "metadata": {
        "id": "8c6fa252"
      },
      "source": [
        "y=df_final[['TravelInsurance']]"
      ],
      "id": "8c6fa252",
      "execution_count": null,
      "outputs": []
    },
    {
      "cell_type": "code",
      "metadata": {
        "id": "23521ca6"
      },
      "source": [
        "from sklearn.linear_model import LogisticRegression"
      ],
      "id": "23521ca6",
      "execution_count": null,
      "outputs": []
    },
    {
      "cell_type": "code",
      "metadata": {
        "id": "f02ad062"
      },
      "source": [
        "lr=LogisticRegression()"
      ],
      "id": "f02ad062",
      "execution_count": null,
      "outputs": []
    },
    {
      "cell_type": "code",
      "metadata": {
        "id": "c9d48833"
      },
      "source": [
        "from sklearn.model_selection import train_test_split"
      ],
      "id": "c9d48833",
      "execution_count": null,
      "outputs": []
    },
    {
      "cell_type": "code",
      "metadata": {
        "id": "6f1a6dd2"
      },
      "source": [
        "x_train,x_test,y_train,y_test=train_test_split(x,y,test_size=0.35)"
      ],
      "id": "6f1a6dd2",
      "execution_count": null,
      "outputs": []
    },
    {
      "cell_type": "code",
      "metadata": {
        "colab": {
          "base_uri": "https://localhost:8080/"
        },
        "id": "14f8fb85",
        "outputId": "4c8d22d6-95d5-4a1a-d783-271a3c0256b8"
      },
      "source": [
        "lr.fit(x_train,y_train)"
      ],
      "id": "14f8fb85",
      "execution_count": null,
      "outputs": [
        {
          "output_type": "stream",
          "name": "stderr",
          "text": [
            "/usr/local/lib/python3.7/dist-packages/sklearn/utils/validation.py:760: DataConversionWarning: A column-vector y was passed when a 1d array was expected. Please change the shape of y to (n_samples, ), for example using ravel().\n",
            "  y = column_or_1d(y, warn=True)\n"
          ]
        },
        {
          "output_type": "execute_result",
          "data": {
            "text/plain": [
              "LogisticRegression(C=1.0, class_weight=None, dual=False, fit_intercept=True,\n",
              "                   intercept_scaling=1, l1_ratio=None, max_iter=100,\n",
              "                   multi_class='auto', n_jobs=None, penalty='l2',\n",
              "                   random_state=None, solver='lbfgs', tol=0.0001, verbose=0,\n",
              "                   warm_start=False)"
            ]
          },
          "metadata": {},
          "execution_count": 131
        }
      ]
    },
    {
      "cell_type": "code",
      "metadata": {
        "id": "ea236110"
      },
      "source": [
        "y_pred=lr.predict(x_test)"
      ],
      "id": "ea236110",
      "execution_count": null,
      "outputs": []
    },
    {
      "cell_type": "code",
      "metadata": {
        "colab": {
          "base_uri": "https://localhost:8080/",
          "height": 203
        },
        "id": "3f0cc650",
        "outputId": "18de6ce6-865c-470c-d862-306902b17d7b"
      },
      "source": [
        "y_test.head()"
      ],
      "id": "3f0cc650",
      "execution_count": null,
      "outputs": [
        {
          "output_type": "execute_result",
          "data": {
            "text/html": [
              "<div>\n",
              "<style scoped>\n",
              "    .dataframe tbody tr th:only-of-type {\n",
              "        vertical-align: middle;\n",
              "    }\n",
              "\n",
              "    .dataframe tbody tr th {\n",
              "        vertical-align: top;\n",
              "    }\n",
              "\n",
              "    .dataframe thead th {\n",
              "        text-align: right;\n",
              "    }\n",
              "</style>\n",
              "<table border=\"1\" class=\"dataframe\">\n",
              "  <thead>\n",
              "    <tr style=\"text-align: right;\">\n",
              "      <th></th>\n",
              "      <th>TravelInsurance</th>\n",
              "    </tr>\n",
              "  </thead>\n",
              "  <tbody>\n",
              "    <tr>\n",
              "      <th>983</th>\n",
              "      <td>1</td>\n",
              "    </tr>\n",
              "    <tr>\n",
              "      <th>357</th>\n",
              "      <td>0</td>\n",
              "    </tr>\n",
              "    <tr>\n",
              "      <th>1324</th>\n",
              "      <td>1</td>\n",
              "    </tr>\n",
              "    <tr>\n",
              "      <th>1060</th>\n",
              "      <td>0</td>\n",
              "    </tr>\n",
              "    <tr>\n",
              "      <th>372</th>\n",
              "      <td>0</td>\n",
              "    </tr>\n",
              "  </tbody>\n",
              "</table>\n",
              "</div>"
            ],
            "text/plain": [
              "      TravelInsurance\n",
              "983                 1\n",
              "357                 0\n",
              "1324                1\n",
              "1060                0\n",
              "372                 0"
            ]
          },
          "metadata": {},
          "execution_count": 133
        }
      ]
    },
    {
      "cell_type": "code",
      "metadata": {
        "colab": {
          "base_uri": "https://localhost:8080/"
        },
        "id": "3e15ccb7",
        "outputId": "13b0d20a-e2ed-44b7-f44b-674f5a940d32"
      },
      "source": [
        "y_pred[0:5]"
      ],
      "id": "3e15ccb7",
      "execution_count": null,
      "outputs": [
        {
          "output_type": "execute_result",
          "data": {
            "text/plain": [
              "array([0, 0, 1, 0, 0])"
            ]
          },
          "metadata": {},
          "execution_count": 134
        }
      ]
    },
    {
      "cell_type": "code",
      "metadata": {
        "id": "3713c8cf"
      },
      "source": [
        "from sklearn.metrics import confusion_matrix\n",
        "from sklearn.metrics import accuracy_score, f1_score, precision_score, recall_score"
      ],
      "id": "3713c8cf",
      "execution_count": null,
      "outputs": []
    },
    {
      "cell_type": "code",
      "metadata": {
        "colab": {
          "base_uri": "https://localhost:8080/"
        },
        "id": "ab0f2167",
        "outputId": "bae22d66-d8d3-4bad-fd0b-84b30ba5d861"
      },
      "source": [
        "print('LR model accuracy score: {0:0.4f}'. format(accuracy_score(y_test, y_pred)))\n",
        "print('LR model F1 score: {0:0.4f}'. format(f1_score(y_test, y_pred)))\n",
        "print('LR model precision score: {0:0.4f}'. format(precision_score(y_test, y_pred)))\n",
        "print('LR model recall score: {0:0.4f}'. format(recall_score(y_test, y_pred)))"
      ],
      "id": "ab0f2167",
      "execution_count": null,
      "outputs": [
        {
          "output_type": "stream",
          "name": "stdout",
          "text": [
            "LR model accuracy score: 0.8032\n",
            "LR model F1 score: 0.6566\n",
            "LR model precision score: 0.9161\n",
            "LR model recall score: 0.5117\n"
          ]
        }
      ]
    },
    {
      "cell_type": "code",
      "metadata": {
        "colab": {
          "base_uri": "https://localhost:8080/"
        },
        "id": "0ef6fda4",
        "outputId": "5d9b1cca-fef5-4a3c-c942-30a015cfb470"
      },
      "source": [
        "cf_matrix=confusion_matrix(y_test,y_pred)\n",
        "print(cf_matrix)"
      ],
      "id": "0ef6fda4",
      "execution_count": null,
      "outputs": [
        {
          "output_type": "stream",
          "name": "stdout",
          "text": [
            "[[428  12]\n",
            " [125 131]]\n"
          ]
        }
      ]
    },
    {
      "cell_type": "code",
      "metadata": {
        "colab": {
          "base_uri": "https://localhost:8080/",
          "height": 282
        },
        "id": "ca916951",
        "outputId": "1ad31ff1-0067-4cc2-d225-f38188eb48be"
      },
      "source": [
        "sns.heatmap(cf_matrix, annot=True, cmap='OrRd')"
      ],
      "id": "ca916951",
      "execution_count": null,
      "outputs": [
        {
          "output_type": "execute_result",
          "data": {
            "text/plain": [
              "<matplotlib.axes._subplots.AxesSubplot at 0x7fdd8e175110>"
            ]
          },
          "metadata": {},
          "execution_count": 138
        },
        {
          "output_type": "display_data",
          "data": {
            "image/png": "[encoded data removed]",
            "text/plain": [
              "<Figure size 432x288 with 2 Axes>"
            ]
          },
          "metadata": {
            "needs_background": "light"
          }
        }
      ]
    },
    {
      "cell_type": "markdown",
      "metadata": {
        "id": "c7d65971"
      },
      "source": [
        "**0.77** is the accuracy according to Logistic Regression Model."
      ],
      "id": "c7d65971"
    },
    {
      "cell_type": "code",
      "metadata": {
        "id": "dd05c8c8"
      },
      "source": [
        "x=df_final.drop(columns=[\"TravelInsurance\"])"
      ],
      "id": "dd05c8c8",
      "execution_count": null,
      "outputs": []
    },
    {
      "cell_type": "code",
      "metadata": {
        "id": "10523b41"
      },
      "source": [
        "y=df_final[['TravelInsurance']]"
      ],
      "id": "10523b41",
      "execution_count": null,
      "outputs": []
    },
    {
      "cell_type": "code",
      "metadata": {
        "id": "d8a87666"
      },
      "source": [
        "from sklearn.model_selection import train_test_split\n",
        "x_train, x_test, y_train, y_test = train_test_split(x, y, test_size=0.35)"
      ],
      "id": "d8a87666",
      "execution_count": null,
      "outputs": []
    },
    {
      "cell_type": "code",
      "metadata": {
        "colab": {
          "base_uri": "https://localhost:8080/"
        },
        "id": "90901ba5",
        "outputId": "dc9b3a28-9aed-4e36-f918-9c359e4f18a8"
      },
      "source": [
        "from xgboost import XGBClassifier\n",
        "xgbmodel = XGBClassifier()\n",
        "xgbmodel.fit(x_train, y_train)"
      ],
      "id": "90901ba5",
      "execution_count": null,
      "outputs": [
        {
          "output_type": "stream",
          "name": "stderr",
          "text": [
            "/usr/local/lib/python3.7/dist-packages/sklearn/preprocessing/_label.py:235: DataConversionWarning: A column-vector y was passed when a 1d array was expected. Please change the shape of y to (n_samples, ), for example using ravel().\n",
            "  y = column_or_1d(y, warn=True)\n",
            "/usr/local/lib/python3.7/dist-packages/sklearn/preprocessing/_label.py:268: DataConversionWarning: A column-vector y was passed when a 1d array was expected. Please change the shape of y to (n_samples, ), for example using ravel().\n",
            "  y = column_or_1d(y, warn=True)\n"
          ]
        },
        {
          "output_type": "execute_result",
          "data": {
            "text/plain": [
              "XGBClassifier(base_score=0.5, booster='gbtree', colsample_bylevel=1,\n",
              "              colsample_bynode=1, colsample_bytree=1, gamma=0,\n",
              "              learning_rate=0.1, max_delta_step=0, max_depth=3,\n",
              "              min_child_weight=1, missing=None, n_estimators=100, n_jobs=1,\n",
              "              nthread=None, objective='binary:logistic', random_state=0,\n",
              "              reg_alpha=0, reg_lambda=1, scale_pos_weight=1, seed=None,\n",
              "              silent=None, subsample=1, verbosity=1)"
            ]
          },
          "metadata": {},
          "execution_count": 142
        }
      ]
    },
    {
      "cell_type": "code",
      "metadata": {
        "id": "4035886b"
      },
      "source": [
        "from sklearn.metrics import accuracy_score, plot_confusion_matrix, f1_score, precision_score, recall_score"
      ],
      "id": "4035886b",
      "execution_count": null,
      "outputs": []
    },
    {
      "cell_type": "code",
      "metadata": {
        "colab": {
          "base_uri": "https://localhost:8080/"
        },
        "id": "967e2c84",
        "outputId": "f005e34e-7060-4421-b323-9b2be9e33dde"
      },
      "source": [
        "y_pred = xgbmodel.predict(x_test)\n",
        "\n",
        "print('XGBoost model accuracy score: {0:0.4f}'. format(accuracy_score(y_test, y_pred)))\n",
        "print('XGBoost model F1 score: {0:0.4f}'. format(f1_score(y_test, y_pred)))\n",
        "print('XGBoost model precision score: {0:0.4f}'. format(precision_score(y_test, y_pred)))\n",
        "print('XGBoost model recall score: {0:0.4f}'. format(recall_score(y_test, y_pred)))"
      ],
      "id": "967e2c84",
      "execution_count": null,
      "outputs": [
        {
          "output_type": "stream",
          "name": "stdout",
          "text": [
            "XGBoost model accuracy score: 0.8376\n",
            "XGBoost model F1 score: 0.7224\n",
            "XGBoost model precision score: 0.9018\n",
            "XGBoost model recall score: 0.6025\n"
          ]
        }
      ]
    },
    {
      "cell_type": "code",
      "metadata": {
        "colab": {
          "base_uri": "https://localhost:8080/"
        },
        "id": "KBcC60D-g1k6",
        "outputId": "a9f6144b-5504-455f-c128-d961ae07a246"
      },
      "source": [
        "cf_matrix=confusion_matrix(y_test,y_pred)\n",
        "print(cf_matrix)"
      ],
      "id": "KBcC60D-g1k6",
      "execution_count": null,
      "outputs": [
        {
          "output_type": "stream",
          "name": "stdout",
          "text": [
            "[[436  16]\n",
            " [ 97 147]]\n"
          ]
        }
      ]
    },
    {
      "cell_type": "code",
      "metadata": {
        "colab": {
          "base_uri": "https://localhost:8080/",
          "height": 282
        },
        "id": "J2KT2GYPgux8",
        "outputId": "eb97f239-0c68-4265-ad8b-868479ecb471"
      },
      "source": [
        "sns.heatmap(cf_matrix, annot=True, cmap='OrRd')"
      ],
      "id": "J2KT2GYPgux8",
      "execution_count": null,
      "outputs": [
        {
          "output_type": "execute_result",
          "data": {
            "text/plain": [
              "<matplotlib.axes._subplots.AxesSubplot at 0x7fdd743fa9d0>"
            ]
          },
          "metadata": {},
          "execution_count": 146
        },
        {
          "output_type": "display_data",
          "data": {
            "image/png": "[encoded data removed]",
            "text/plain": [
              "<Figure size 432x288 with 2 Axes>"
            ]
          },
          "metadata": {
            "needs_background": "light"
          }
        }
      ]
    },
    {
      "cell_type": "markdown",
      "metadata": {
        "id": "9b507c4b"
      },
      "source": [
        "So, comparing the two models, **XGBoost Model** gives a better accuracy of **0.88**."
      ],
      "id": "9b507c4b"
    },
    {
      "cell_type": "markdown",
      "metadata": {
        "id": "735220b2"
      },
      "source": [
        "### *BY- SHRUTI BANSAL* \n",
        "#### Connect with me on-\n",
        "### [Github](https://github.com/shruti3000)       [LinkedIn](https://www.linkedin.com/in/shruti-b-6743361bb)"
      ],
      "id": "735220b2"
    },
    {
      "cell_type": "code",
      "metadata": {
        "id": "88068950"
      },
      "source": [
        ""
      ],
      "id": "88068950",
      "execution_count": null,
      "outputs": []
    }
  ]
}